{
 "cells": [
  {
   "cell_type": "code",
   "execution_count": 102,
   "id": "12498b8a-19e9-44f2-b63b-71be850cb187",
   "metadata": {},
   "outputs": [],
   "source": [
    "import ipywidgets as widgets\n",
    "import altair\n",
    "from ipywidgets import interact\n",
    "\n",
    "\n",
    "plot_fields = [\n",
    "    'total_realized_demand',\n",
    "    'demand_manual_first_fixes',\n",
    "    'prob_demand_manual_existing_always_manual',\n",
    "    'prob_demand_manual_existing_former_autoship',\n",
    "    'demand_manual_non_autoship_subsequent_fixes',\n",
    "    'prob_cancel_manual_total'\n",
    "]"
   ]
  },
  {
   "cell_type": "code",
   "execution_count": 104,
   "id": "fafa202e-f5c4-4f91-9873-722ba5c71613",
   "metadata": {},
   "outputs": [],
   "source": [
    "import pandas as pd\n",
    "\n",
    "df = pd.DataFrame({\n",
    "    'x': [1,2,3,30],\n",
    "    'total_realized_demand': [1,2,3,4],\n",
    "    'demand_manual_first_fixes': [4,4,4,4],\n",
    "    'prob_demand_manual_existing_always_manual': [3,4,4,3],\n",
    "    'prob_demand_manual_existing_former_autoship': [1,2,3,3],\n",
    "    'demand_manual_non_autoship_subsequent_fixes': [1,1,4,3],\n",
    "    'prob_cancel_manual_total': [1,2,4,1]\n",
    "})"
   ]
  },
  {
   "cell_type": "code",
   "execution_count": 105,
   "id": "b049e8f2-350d-4768-b97c-21aaf0b7b49d",
   "metadata": {},
   "outputs": [],
   "source": [
    "def make_plot(df, variable):\n",
    "    p = altair.Chart(df).mark_line().encode(\n",
    "        x='x',\n",
    "     y=variable\n",
    "    )\n",
    "    return p"
   ]
  },
  {
   "cell_type": "code",
   "execution_count": 106,
   "id": "f60f28ec-5239-412e-a3e1-3783a2a0b168",
   "metadata": {},
   "outputs": [],
   "source": [
    "dropdown = widgets.Dropdown(\n",
    "    options=plot_fields,\n",
    "    value=plot_fields[0],\n",
    "    description='field:',\n",
    "    disabled=False,\n",
    ")"
   ]
  },
  {
   "cell_type": "code",
   "execution_count": 107,
   "id": "11b6aba5-15ad-4196-80c0-0e224d8b35e3",
   "metadata": {},
   "outputs": [
    {
     "data": {
      "application/vnd.jupyter.widget-view+json": {
       "model_id": "a8979ea4c73a4f9da7ab3baa5dc77bba",
       "version_major": 2,
       "version_minor": 0
      },
      "text/plain": [
       "interactive(children=(Dropdown(description='field:', options=('total_realized_demand', 'demand_manual_first_fi…"
      ]
     },
     "metadata": {},
     "output_type": "display_data"
    }
   ],
   "source": [
    "@interact(field = dropdown)\n",
    "def view_plots(field):\n",
    "    return make_plot(df, field)"
   ]
  },
  {
   "cell_type": "code",
   "execution_count": null,
   "id": "d5cc2ee5-672b-4e7d-aa5e-36df41b55e48",
   "metadata": {},
   "outputs": [],
   "source": []
  }
 ],
 "metadata": {
  "kernelspec": {
   "display_name": "sonic",
   "language": "python",
   "name": "sonic"
  },
  "language_info": {
   "codemirror_mode": {
    "name": "ipython",
    "version": 3
   },
   "file_extension": ".py",
   "mimetype": "text/x-python",
   "name": "python",
   "nbconvert_exporter": "python",
   "pygments_lexer": "ipython3",
   "version": "3.8.12"
  }
 },
 "nbformat": 4,
 "nbformat_minor": 5
}
